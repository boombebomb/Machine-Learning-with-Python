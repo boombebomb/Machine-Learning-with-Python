{
  "cells": [
    {
      "cell_type": "markdown",
      "source": [
        "# Preparation"
      ],
      "metadata": {
        "id": "A4e8FnCzBXfv"
      }
    },
    {
      "cell_type": "code",
      "execution_count": null,
      "metadata": {
        "id": "8RZOuS9LWQvv"
      },
      "outputs": [],
      "source": [
        "# import libraries\n",
        "try:\n",
        "  # %tensorflow_version only exists in Colab.\n",
        "  !pip install tf-nightly\n",
        "except Exception:\n",
        "  pass\n",
        "import tensorflow as tf\n",
        "import pandas as pd\n",
        "from tensorflow import keras\n",
        "!pip install tensorflow-datasets\n",
        "import tensorflow_datasets as tfds\n",
        "import numpy as np\n",
        "import matplotlib.pyplot as plt\n",
        "\n",
        "print(tf.__version__)"
      ]
    },
    {
      "cell_type": "code",
      "execution_count": null,
      "metadata": {
        "id": "lMHwYXHXCar3",
        "colab": {
          "base_uri": "https://localhost:8080/"
        },
        "outputId": "1e437493-9c3a-4f2a-f824-8ab18221566c"
      },
      "outputs": [
        {
          "output_type": "stream",
          "name": "stdout",
          "text": [
            "--2023-08-29 05:57:33--  https://cdn.freecodecamp.org/project-data/sms/train-data.tsv\n",
            "Resolving cdn.freecodecamp.org (cdn.freecodecamp.org)... 104.26.2.33, 104.26.3.33, 172.67.70.149, ...\n",
            "Connecting to cdn.freecodecamp.org (cdn.freecodecamp.org)|104.26.2.33|:443... connected.\n",
            "HTTP request sent, awaiting response... 200 OK\n",
            "Length: 358233 (350K) [text/tab-separated-values]\n",
            "Saving to: ‘train-data.tsv’\n",
            "\n",
            "train-data.tsv      100%[===================>] 349.84K  --.-KB/s    in 0.006s  \n",
            "\n",
            "2023-08-29 05:57:33 (58.4 MB/s) - ‘train-data.tsv’ saved [358233/358233]\n",
            "\n",
            "--2023-08-29 05:57:33--  https://cdn.freecodecamp.org/project-data/sms/valid-data.tsv\n",
            "Resolving cdn.freecodecamp.org (cdn.freecodecamp.org)... 104.26.2.33, 104.26.3.33, 172.67.70.149, ...\n",
            "Connecting to cdn.freecodecamp.org (cdn.freecodecamp.org)|104.26.2.33|:443... connected.\n",
            "HTTP request sent, awaiting response... 200 OK\n",
            "Length: 118774 (116K) [text/tab-separated-values]\n",
            "Saving to: ‘valid-data.tsv’\n",
            "\n",
            "valid-data.tsv      100%[===================>] 115.99K  --.-KB/s    in 0.002s  \n",
            "\n",
            "2023-08-29 05:57:33 (58.6 MB/s) - ‘valid-data.tsv’ saved [118774/118774]\n",
            "\n"
          ]
        }
      ],
      "source": [
        "# get data files\n",
        "!wget https://cdn.freecodecamp.org/project-data/sms/train-data.tsv\n",
        "!wget https://cdn.freecodecamp.org/project-data/sms/valid-data.tsv\n",
        "\n",
        "train_file_path = \"train-data.tsv\"\n",
        "test_file_path = \"valid-data.tsv\""
      ]
    },
    {
      "cell_type": "markdown",
      "source": [
        "## Import the Data"
      ],
      "metadata": {
        "id": "kMgYCskmBZWt"
      }
    },
    {
      "cell_type": "code",
      "execution_count": null,
      "metadata": {
        "id": "g_h508FEClxO",
        "colab": {
          "base_uri": "https://localhost:8080/",
          "height": 206
        },
        "outputId": "1f466e15-ecd3-4284-f74f-3e0a61385ceb"
      },
      "outputs": [
        {
          "output_type": "execute_result",
          "data": {
            "text/plain": [
              "  label                                            message\n",
              "0   ham  ahhhh...just woken up!had a bad dream about u ...\n",
              "1   ham                           you can never do nothing\n",
              "2   ham  now u sound like manky scouse boy steve,like! ...\n",
              "3   ham  mum say we wan to go then go... then she can s...\n",
              "4   ham  never y lei... i v lazy... got wat? dat day ü ..."
            ],
            "text/html": [
              "\n",
              "  <div id=\"df-cd19becd-a0e3-44b1-aea1-757270158e92\" class=\"colab-df-container\">\n",
              "    <div>\n",
              "<style scoped>\n",
              "    .dataframe tbody tr th:only-of-type {\n",
              "        vertical-align: middle;\n",
              "    }\n",
              "\n",
              "    .dataframe tbody tr th {\n",
              "        vertical-align: top;\n",
              "    }\n",
              "\n",
              "    .dataframe thead th {\n",
              "        text-align: right;\n",
              "    }\n",
              "</style>\n",
              "<table border=\"1\" class=\"dataframe\">\n",
              "  <thead>\n",
              "    <tr style=\"text-align: right;\">\n",
              "      <th></th>\n",
              "      <th>label</th>\n",
              "      <th>message</th>\n",
              "    </tr>\n",
              "  </thead>\n",
              "  <tbody>\n",
              "    <tr>\n",
              "      <th>0</th>\n",
              "      <td>ham</td>\n",
              "      <td>ahhhh...just woken up!had a bad dream about u ...</td>\n",
              "    </tr>\n",
              "    <tr>\n",
              "      <th>1</th>\n",
              "      <td>ham</td>\n",
              "      <td>you can never do nothing</td>\n",
              "    </tr>\n",
              "    <tr>\n",
              "      <th>2</th>\n",
              "      <td>ham</td>\n",
              "      <td>now u sound like manky scouse boy steve,like! ...</td>\n",
              "    </tr>\n",
              "    <tr>\n",
              "      <th>3</th>\n",
              "      <td>ham</td>\n",
              "      <td>mum say we wan to go then go... then she can s...</td>\n",
              "    </tr>\n",
              "    <tr>\n",
              "      <th>4</th>\n",
              "      <td>ham</td>\n",
              "      <td>never y lei... i v lazy... got wat? dat day ü ...</td>\n",
              "    </tr>\n",
              "  </tbody>\n",
              "</table>\n",
              "</div>\n",
              "    <div class=\"colab-df-buttons\">\n",
              "\n",
              "  <div class=\"colab-df-container\">\n",
              "    <button class=\"colab-df-convert\" onclick=\"convertToInteractive('df-cd19becd-a0e3-44b1-aea1-757270158e92')\"\n",
              "            title=\"Convert this dataframe to an interactive table.\"\n",
              "            style=\"display:none;\">\n",
              "\n",
              "  <svg xmlns=\"http://www.w3.org/2000/svg\" height=\"24px\" viewBox=\"0 -960 960 960\">\n",
              "    <path d=\"M120-120v-720h720v720H120Zm60-500h600v-160H180v160Zm220 220h160v-160H400v160Zm0 220h160v-160H400v160ZM180-400h160v-160H180v160Zm440 0h160v-160H620v160ZM180-180h160v-160H180v160Zm440 0h160v-160H620v160Z\"/>\n",
              "  </svg>\n",
              "    </button>\n",
              "\n",
              "  <style>\n",
              "    .colab-df-container {\n",
              "      display:flex;\n",
              "      gap: 12px;\n",
              "    }\n",
              "\n",
              "    .colab-df-convert {\n",
              "      background-color: #E8F0FE;\n",
              "      border: none;\n",
              "      border-radius: 50%;\n",
              "      cursor: pointer;\n",
              "      display: none;\n",
              "      fill: #1967D2;\n",
              "      height: 32px;\n",
              "      padding: 0 0 0 0;\n",
              "      width: 32px;\n",
              "    }\n",
              "\n",
              "    .colab-df-convert:hover {\n",
              "      background-color: #E2EBFA;\n",
              "      box-shadow: 0px 1px 2px rgba(60, 64, 67, 0.3), 0px 1px 3px 1px rgba(60, 64, 67, 0.15);\n",
              "      fill: #174EA6;\n",
              "    }\n",
              "\n",
              "    .colab-df-buttons div {\n",
              "      margin-bottom: 4px;\n",
              "    }\n",
              "\n",
              "    [theme=dark] .colab-df-convert {\n",
              "      background-color: #3B4455;\n",
              "      fill: #D2E3FC;\n",
              "    }\n",
              "\n",
              "    [theme=dark] .colab-df-convert:hover {\n",
              "      background-color: #434B5C;\n",
              "      box-shadow: 0px 1px 3px 1px rgba(0, 0, 0, 0.15);\n",
              "      filter: drop-shadow(0px 1px 2px rgba(0, 0, 0, 0.3));\n",
              "      fill: #FFFFFF;\n",
              "    }\n",
              "  </style>\n",
              "\n",
              "    <script>\n",
              "      const buttonEl =\n",
              "        document.querySelector('#df-cd19becd-a0e3-44b1-aea1-757270158e92 button.colab-df-convert');\n",
              "      buttonEl.style.display =\n",
              "        google.colab.kernel.accessAllowed ? 'block' : 'none';\n",
              "\n",
              "      async function convertToInteractive(key) {\n",
              "        const element = document.querySelector('#df-cd19becd-a0e3-44b1-aea1-757270158e92');\n",
              "        const dataTable =\n",
              "          await google.colab.kernel.invokeFunction('convertToInteractive',\n",
              "                                                    [key], {});\n",
              "        if (!dataTable) return;\n",
              "\n",
              "        const docLinkHtml = 'Like what you see? Visit the ' +\n",
              "          '<a target=\"_blank\" href=https://colab.research.google.com/notebooks/data_table.ipynb>data table notebook</a>'\n",
              "          + ' to learn more about interactive tables.';\n",
              "        element.innerHTML = '';\n",
              "        dataTable['output_type'] = 'display_data';\n",
              "        await google.colab.output.renderOutput(dataTable, element);\n",
              "        const docLink = document.createElement('div');\n",
              "        docLink.innerHTML = docLinkHtml;\n",
              "        element.appendChild(docLink);\n",
              "      }\n",
              "    </script>\n",
              "  </div>\n",
              "\n",
              "\n",
              "<div id=\"df-099aafe9-8bd9-4e92-938f-cd2d32ba8554\">\n",
              "  <button class=\"colab-df-quickchart\" onclick=\"quickchart('df-099aafe9-8bd9-4e92-938f-cd2d32ba8554')\"\n",
              "            title=\"Suggest charts.\"\n",
              "            style=\"display:none;\">\n",
              "\n",
              "<svg xmlns=\"http://www.w3.org/2000/svg\" height=\"24px\"viewBox=\"0 0 24 24\"\n",
              "     width=\"24px\">\n",
              "    <g>\n",
              "        <path d=\"M19 3H5c-1.1 0-2 .9-2 2v14c0 1.1.9 2 2 2h14c1.1 0 2-.9 2-2V5c0-1.1-.9-2-2-2zM9 17H7v-7h2v7zm4 0h-2V7h2v10zm4 0h-2v-4h2v4z\"/>\n",
              "    </g>\n",
              "</svg>\n",
              "  </button>\n",
              "\n",
              "<style>\n",
              "  .colab-df-quickchart {\n",
              "    background-color: #E8F0FE;\n",
              "    border: none;\n",
              "    border-radius: 50%;\n",
              "    cursor: pointer;\n",
              "    display: none;\n",
              "    fill: #1967D2;\n",
              "    height: 32px;\n",
              "    padding: 0 0 0 0;\n",
              "    width: 32px;\n",
              "  }\n",
              "\n",
              "  .colab-df-quickchart:hover {\n",
              "    background-color: #E2EBFA;\n",
              "    box-shadow: 0px 1px 2px rgba(60, 64, 67, 0.3), 0px 1px 3px 1px rgba(60, 64, 67, 0.15);\n",
              "    fill: #174EA6;\n",
              "  }\n",
              "\n",
              "  [theme=dark] .colab-df-quickchart {\n",
              "    background-color: #3B4455;\n",
              "    fill: #D2E3FC;\n",
              "  }\n",
              "\n",
              "  [theme=dark] .colab-df-quickchart:hover {\n",
              "    background-color: #434B5C;\n",
              "    box-shadow: 0px 1px 3px 1px rgba(0, 0, 0, 0.15);\n",
              "    filter: drop-shadow(0px 1px 2px rgba(0, 0, 0, 0.3));\n",
              "    fill: #FFFFFF;\n",
              "  }\n",
              "</style>\n",
              "\n",
              "  <script>\n",
              "    async function quickchart(key) {\n",
              "      const charts = await google.colab.kernel.invokeFunction(\n",
              "          'suggestCharts', [key], {});\n",
              "    }\n",
              "    (() => {\n",
              "      let quickchartButtonEl =\n",
              "        document.querySelector('#df-099aafe9-8bd9-4e92-938f-cd2d32ba8554 button');\n",
              "      quickchartButtonEl.style.display =\n",
              "        google.colab.kernel.accessAllowed ? 'block' : 'none';\n",
              "    })();\n",
              "  </script>\n",
              "</div>\n",
              "    </div>\n",
              "  </div>\n"
            ]
          },
          "metadata": {},
          "execution_count": 106
        }
      ],
      "source": [
        "# กำหนดชื่อคอลัมน์สำหรับข้อมูล\n",
        "column_names = ['label', 'message']  # คอลัมน์แรกคือประเภท (ham/spam) คอลัมน์ที่สองคือข้อความ SMS\n",
        "\n",
        "# อ่านข้อมูลฝึกฝนเข้ามาเป็น DataFrame โดยใช้ tab (\"\\t\") เป็นตัวคั่นข้อมูลและกำหนดชื่อคอลัมน์\n",
        "train_data = pd.read_csv(train_file_path, sep=\"\\t\", names=column_names)\n",
        "train_data.head()  # แสดง 5 แถวแรกของข้อมูลฝึกฝนเพื่อตรวจสอบ"
      ]
    },
    {
      "cell_type": "code",
      "execution_count": null,
      "metadata": {
        "id": "zOMKywn4zReN",
        "colab": {
          "base_uri": "https://localhost:8080/",
          "height": 206
        },
        "outputId": "3000e7aa-88e8-4ff1-9f4d-16c9bd6759aa"
      },
      "outputs": [
        {
          "output_type": "execute_result",
          "data": {
            "text/plain": [
              "  label                                            message\n",
              "0   ham  i am in hospital da. . i will return home in e...\n",
              "1   ham         not much, just some textin'. how bout you?\n",
              "2   ham  i probably won't eat at all today. i think i'm...\n",
              "3   ham  don‘t give a flying monkeys wot they think and...\n",
              "4   ham                                who are you seeing?"
            ],
            "text/html": [
              "\n",
              "  <div id=\"df-78248e5f-eb26-4063-9a1d-3f4736c3e971\" class=\"colab-df-container\">\n",
              "    <div>\n",
              "<style scoped>\n",
              "    .dataframe tbody tr th:only-of-type {\n",
              "        vertical-align: middle;\n",
              "    }\n",
              "\n",
              "    .dataframe tbody tr th {\n",
              "        vertical-align: top;\n",
              "    }\n",
              "\n",
              "    .dataframe thead th {\n",
              "        text-align: right;\n",
              "    }\n",
              "</style>\n",
              "<table border=\"1\" class=\"dataframe\">\n",
              "  <thead>\n",
              "    <tr style=\"text-align: right;\">\n",
              "      <th></th>\n",
              "      <th>label</th>\n",
              "      <th>message</th>\n",
              "    </tr>\n",
              "  </thead>\n",
              "  <tbody>\n",
              "    <tr>\n",
              "      <th>0</th>\n",
              "      <td>ham</td>\n",
              "      <td>i am in hospital da. . i will return home in e...</td>\n",
              "    </tr>\n",
              "    <tr>\n",
              "      <th>1</th>\n",
              "      <td>ham</td>\n",
              "      <td>not much, just some textin'. how bout you?</td>\n",
              "    </tr>\n",
              "    <tr>\n",
              "      <th>2</th>\n",
              "      <td>ham</td>\n",
              "      <td>i probably won't eat at all today. i think i'm...</td>\n",
              "    </tr>\n",
              "    <tr>\n",
              "      <th>3</th>\n",
              "      <td>ham</td>\n",
              "      <td>don‘t give a flying monkeys wot they think and...</td>\n",
              "    </tr>\n",
              "    <tr>\n",
              "      <th>4</th>\n",
              "      <td>ham</td>\n",
              "      <td>who are you seeing?</td>\n",
              "    </tr>\n",
              "  </tbody>\n",
              "</table>\n",
              "</div>\n",
              "    <div class=\"colab-df-buttons\">\n",
              "\n",
              "  <div class=\"colab-df-container\">\n",
              "    <button class=\"colab-df-convert\" onclick=\"convertToInteractive('df-78248e5f-eb26-4063-9a1d-3f4736c3e971')\"\n",
              "            title=\"Convert this dataframe to an interactive table.\"\n",
              "            style=\"display:none;\">\n",
              "\n",
              "  <svg xmlns=\"http://www.w3.org/2000/svg\" height=\"24px\" viewBox=\"0 -960 960 960\">\n",
              "    <path d=\"M120-120v-720h720v720H120Zm60-500h600v-160H180v160Zm220 220h160v-160H400v160Zm0 220h160v-160H400v160ZM180-400h160v-160H180v160Zm440 0h160v-160H620v160ZM180-180h160v-160H180v160Zm440 0h160v-160H620v160Z\"/>\n",
              "  </svg>\n",
              "    </button>\n",
              "\n",
              "  <style>\n",
              "    .colab-df-container {\n",
              "      display:flex;\n",
              "      gap: 12px;\n",
              "    }\n",
              "\n",
              "    .colab-df-convert {\n",
              "      background-color: #E8F0FE;\n",
              "      border: none;\n",
              "      border-radius: 50%;\n",
              "      cursor: pointer;\n",
              "      display: none;\n",
              "      fill: #1967D2;\n",
              "      height: 32px;\n",
              "      padding: 0 0 0 0;\n",
              "      width: 32px;\n",
              "    }\n",
              "\n",
              "    .colab-df-convert:hover {\n",
              "      background-color: #E2EBFA;\n",
              "      box-shadow: 0px 1px 2px rgba(60, 64, 67, 0.3), 0px 1px 3px 1px rgba(60, 64, 67, 0.15);\n",
              "      fill: #174EA6;\n",
              "    }\n",
              "\n",
              "    .colab-df-buttons div {\n",
              "      margin-bottom: 4px;\n",
              "    }\n",
              "\n",
              "    [theme=dark] .colab-df-convert {\n",
              "      background-color: #3B4455;\n",
              "      fill: #D2E3FC;\n",
              "    }\n",
              "\n",
              "    [theme=dark] .colab-df-convert:hover {\n",
              "      background-color: #434B5C;\n",
              "      box-shadow: 0px 1px 3px 1px rgba(0, 0, 0, 0.15);\n",
              "      filter: drop-shadow(0px 1px 2px rgba(0, 0, 0, 0.3));\n",
              "      fill: #FFFFFF;\n",
              "    }\n",
              "  </style>\n",
              "\n",
              "    <script>\n",
              "      const buttonEl =\n",
              "        document.querySelector('#df-78248e5f-eb26-4063-9a1d-3f4736c3e971 button.colab-df-convert');\n",
              "      buttonEl.style.display =\n",
              "        google.colab.kernel.accessAllowed ? 'block' : 'none';\n",
              "\n",
              "      async function convertToInteractive(key) {\n",
              "        const element = document.querySelector('#df-78248e5f-eb26-4063-9a1d-3f4736c3e971');\n",
              "        const dataTable =\n",
              "          await google.colab.kernel.invokeFunction('convertToInteractive',\n",
              "                                                    [key], {});\n",
              "        if (!dataTable) return;\n",
              "\n",
              "        const docLinkHtml = 'Like what you see? Visit the ' +\n",
              "          '<a target=\"_blank\" href=https://colab.research.google.com/notebooks/data_table.ipynb>data table notebook</a>'\n",
              "          + ' to learn more about interactive tables.';\n",
              "        element.innerHTML = '';\n",
              "        dataTable['output_type'] = 'display_data';\n",
              "        await google.colab.output.renderOutput(dataTable, element);\n",
              "        const docLink = document.createElement('div');\n",
              "        docLink.innerHTML = docLinkHtml;\n",
              "        element.appendChild(docLink);\n",
              "      }\n",
              "    </script>\n",
              "  </div>\n",
              "\n",
              "\n",
              "<div id=\"df-71ca4e79-7012-464f-8b8d-11df40ab464e\">\n",
              "  <button class=\"colab-df-quickchart\" onclick=\"quickchart('df-71ca4e79-7012-464f-8b8d-11df40ab464e')\"\n",
              "            title=\"Suggest charts.\"\n",
              "            style=\"display:none;\">\n",
              "\n",
              "<svg xmlns=\"http://www.w3.org/2000/svg\" height=\"24px\"viewBox=\"0 0 24 24\"\n",
              "     width=\"24px\">\n",
              "    <g>\n",
              "        <path d=\"M19 3H5c-1.1 0-2 .9-2 2v14c0 1.1.9 2 2 2h14c1.1 0 2-.9 2-2V5c0-1.1-.9-2-2-2zM9 17H7v-7h2v7zm4 0h-2V7h2v10zm4 0h-2v-4h2v4z\"/>\n",
              "    </g>\n",
              "</svg>\n",
              "  </button>\n",
              "\n",
              "<style>\n",
              "  .colab-df-quickchart {\n",
              "    background-color: #E8F0FE;\n",
              "    border: none;\n",
              "    border-radius: 50%;\n",
              "    cursor: pointer;\n",
              "    display: none;\n",
              "    fill: #1967D2;\n",
              "    height: 32px;\n",
              "    padding: 0 0 0 0;\n",
              "    width: 32px;\n",
              "  }\n",
              "\n",
              "  .colab-df-quickchart:hover {\n",
              "    background-color: #E2EBFA;\n",
              "    box-shadow: 0px 1px 2px rgba(60, 64, 67, 0.3), 0px 1px 3px 1px rgba(60, 64, 67, 0.15);\n",
              "    fill: #174EA6;\n",
              "  }\n",
              "\n",
              "  [theme=dark] .colab-df-quickchart {\n",
              "    background-color: #3B4455;\n",
              "    fill: #D2E3FC;\n",
              "  }\n",
              "\n",
              "  [theme=dark] .colab-df-quickchart:hover {\n",
              "    background-color: #434B5C;\n",
              "    box-shadow: 0px 1px 3px 1px rgba(0, 0, 0, 0.15);\n",
              "    filter: drop-shadow(0px 1px 2px rgba(0, 0, 0, 0.3));\n",
              "    fill: #FFFFFF;\n",
              "  }\n",
              "</style>\n",
              "\n",
              "  <script>\n",
              "    async function quickchart(key) {\n",
              "      const charts = await google.colab.kernel.invokeFunction(\n",
              "          'suggestCharts', [key], {});\n",
              "    }\n",
              "    (() => {\n",
              "      let quickchartButtonEl =\n",
              "        document.querySelector('#df-71ca4e79-7012-464f-8b8d-11df40ab464e button');\n",
              "      quickchartButtonEl.style.display =\n",
              "        google.colab.kernel.accessAllowed ? 'block' : 'none';\n",
              "    })();\n",
              "  </script>\n",
              "</div>\n",
              "    </div>\n",
              "  </div>\n"
            ]
          },
          "metadata": {},
          "execution_count": 107
        }
      ],
      "source": [
        "# อ่านข้อมูลทดสอบเข้ามาเป็น DataFrame เช่นเดียวกับข้อมูลฝึกฝน\n",
        "test_data = pd.read_csv(test_file_path, sep=\"\\t\", names=column_names)\n",
        "test_data.head()  # แสดง 5 แถวแรกของข้อมูลทดสอบเพื่อตรวจสอบ"
      ]
    },
    {
      "cell_type": "code",
      "source": [
        "# แสดงข้อมูลเพิ่มเติมเกี่ยวกับชุดข้อมูลฝึกฝน\n",
        "train_data.info()\n",
        "# ผลลัพธ์จะแสดงจำนวนแถว ชนิดข้อมูลของแต่ละคอลัมน์ และหน่วยความจำที่ใช้"
      ],
      "metadata": {
        "colab": {
          "base_uri": "https://localhost:8080/"
        },
        "id": "CxBAfgnaILN7",
        "outputId": "938b012e-8e1f-4cd3-f1e3-a65f30188fc3"
      },
      "execution_count": null,
      "outputs": [
        {
          "output_type": "stream",
          "name": "stdout",
          "text": [
            "<class 'pandas.core.frame.DataFrame'>\n",
            "RangeIndex: 4179 entries, 0 to 4178\n",
            "Data columns (total 2 columns):\n",
            " #   Column   Non-Null Count  Dtype \n",
            "---  ------   --------------  ----- \n",
            " 0   label    4179 non-null   object\n",
            " 1   message  4179 non-null   object\n",
            "dtypes: object(2)\n",
            "memory usage: 65.4+ KB\n"
          ]
        }
      ]
    },
    {
      "cell_type": "code",
      "source": [
        "test_data.info()"
      ],
      "metadata": {
        "colab": {
          "base_uri": "https://localhost:8080/"
        },
        "id": "8FvVj5aLIPUV",
        "outputId": "8c494263-cdbf-4396-8891-0fb78b427e64"
      },
      "execution_count": null,
      "outputs": [
        {
          "output_type": "stream",
          "name": "stdout",
          "text": [
            "<class 'pandas.core.frame.DataFrame'>\n",
            "RangeIndex: 1392 entries, 0 to 1391\n",
            "Data columns (total 2 columns):\n",
            " #   Column   Non-Null Count  Dtype \n",
            "---  ------   --------------  ----- \n",
            " 0   label    1392 non-null   object\n",
            " 1   message  1392 non-null   object\n",
            "dtypes: object(2)\n",
            "memory usage: 21.9+ KB\n"
          ]
        }
      ]
    },
    {
      "cell_type": "code",
      "source": [
        "# แสดงกราฟแท่งเพื่อดูการกระจายของข้อมูล (ham vs spam) ในชุดข้อมูลฝึกฝน\n",
        "train_data['label'].value_counts().plot.bar()\n",
        "# จากกราฟจะเห็นว่าข้อมูลไม่สมดุล - มี ham (ข้อความปกติ) มากกว่า spam (ข้อความขยะ) มาก"
      ],
      "metadata": {
        "id": "vZf4b_SqyWDS",
        "colab": {
          "base_uri": "https://localhost:8080/",
          "height": 454
        },
        "outputId": "6149060c-a3eb-4202-9a44-4081606cf536"
      },
      "execution_count": null,
      "outputs": [
        {
          "output_type": "display_data",
          "data": {
            "text/plain": [
              "<Figure size 640x480 with 1 Axes>"
            ],
            "image/png": "[encoded data removed]"
          },
          "metadata": {}
        }
      ]
    },
    {
      "cell_type": "code",
      "source": [
        "test_data['label'].value_counts().plot.bar();"
      ],
      "metadata": {
        "id": "sPG4oIg71FxQ",
        "colab": {
          "base_uri": "https://localhost:8080/",
          "height": 454
        },
        "outputId": "4fbb6361-42ea-42e8-c50c-a4dd3463ce2e"
      },
      "execution_count": null,
      "outputs": [
        {
          "output_type": "display_data",
          "data": {
            "text/plain": [
              "<Figure size 640x480 with 1 Axes>"
            ],
            "image/png": "[encoded data removed]"
          },
          "metadata": {}
        }
      ]
    },
    {
      "cell_type": "markdown",
      "source": [
        "## Undersampling\n",
        "\n",
        "เนื่องจากข้อมูลของเราอยู่ในสถานะไม่สมดุล เราจะแก้ปัญหานี้โดยใช้วิธีการสุ่มตัวอย่างไม่เพียงพอ"
      ],
      "metadata": {
        "id": "xzZw4ScQNb-K"
      }
    },
    {
      "cell_type": "code",
      "source": [
        "# การแก้ปัญหาข้อมูลไม่สมดุลด้วยวิธี Undersampling\n",
        "\n",
        "from imblearn.under_sampling import RandomUnderSampler  # นำเข้าไลบรารีสำหรับทำ undersampling\n",
        "from collections import Counter  # ใช้สำหรับนับจำนวนแต่ละประเภท\n",
        "\n",
        "# แยกข้อมูลเป็นคุณลักษณะ (X) และฉลาก (y)\n",
        "X_train = train_data[\"message\"]  # คุณลักษณะคือข้อความ SMS\n",
        "y_train = train_data[\"label\"]    # ฉลากคือ ham หรือ spam\n",
        "\n",
        "X_test = test_data[\"message\"]    # คุณลักษณะทดสอบ\n",
        "y_test = test_data[\"label\"]      # ฉลากทดสอบ\n",
        "\n",
        "# ทำ undersampling เพื่อแก้ปัญหาความไม่สมดุลของข้อมูลในชุดฝึกฝน\n",
        "# โดยจะสุ่มลดจำนวนของประเภทที่มีข้อมูลมากเกินไป (ham) ให้เท่ากับประเภทที่มีข้อมูลน้อย (spam)\n",
        "under_sampler = RandomUnderSampler(random_state=42)  # กำหนด random seed เพื่อให้ผลลัพธ์คงที่\n",
        "X_train_resampled, y_train_resampled = under_sampler.fit_resample(X_train.to_frame(), y_train)\n",
        "\n",
        "X_train_resampled = X_train_resampled.squeeze()  # แปลงกลับเป็น Series จาก DataFrame\n",
        "\n",
        "# ตรวจสอบการกระจายของประเภทหลังทำ undersampling\n",
        "print(\"Class distribution after undersampling (train dataset):\", Counter(y_train_resampled))\n",
        "# ผลลัพธ์จะแสดงว่าตอนนี้มีจำนวน ham และ spam เท่ากัน"
      ],
      "metadata": {
        "id": "Ly-rCYixNbrv",
        "colab": {
          "base_uri": "https://localhost:8080/"
        },
        "outputId": "1bdb1976-09ac-41e4-9d7d-918426b37e82"
      },
      "execution_count": null,
      "outputs": [
        {
          "output_type": "stream",
          "name": "stdout",
          "text": [
            "Class distribution after undersampling (train dataset): Counter({'ham': 560, 'spam': 560})\n"
          ]
        }
      ]
    },
    {
      "cell_type": "code",
      "source": [
        "# แสดงกราฟการกระจายของข้อมูลหลังทำ undersampling\n",
        "\n",
        "y_train_resampled.value_counts().plot.bar()\n",
        "# กราฟจะแสดงให้เห็นว่าข้อมูลมีความสมดุลแล้ว ham และ spam มีจำนวนเท่ากัน"
      ],
      "metadata": {
        "colab": {
          "base_uri": "https://localhost:8080/",
          "height": 176
        },
        "id": "SzlAP2Ic5XJ2",
        "outputId": "1b30d498-3a32-4488-c55f-9e685ff4a275"
      },
      "execution_count": 1,
      "outputs": [
        {
          "output_type": "error",
          "ename": "NameError",
          "evalue": "name 'y_train_resampled' is not defined",
          "traceback": [
            "\u001b[0;31m---------------------------------------------------------------------------\u001b[0m",
            "\u001b[0;31mNameError\u001b[0m                                 Traceback (most recent call last)",
            "\u001b[0;32m<ipython-input-1-a6881df524fa>\u001b[0m in \u001b[0;36m<cell line: 0>\u001b[0;34m()\u001b[0m\n\u001b[1;32m      1\u001b[0m \u001b[0;31m# แสดงกราฟการกระจายของข้อมูลหลังทำ undersampling\u001b[0m\u001b[0;34m\u001b[0m\u001b[0;34m\u001b[0m\u001b[0m\n\u001b[0;32m----> 2\u001b[0;31m \u001b[0my_train_resampled\u001b[0m\u001b[0;34m.\u001b[0m\u001b[0mvalue_counts\u001b[0m\u001b[0;34m(\u001b[0m\u001b[0;34m)\u001b[0m\u001b[0;34m.\u001b[0m\u001b[0mplot\u001b[0m\u001b[0;34m.\u001b[0m\u001b[0mbar\u001b[0m\u001b[0;34m(\u001b[0m\u001b[0;34m)\u001b[0m\u001b[0;34m\u001b[0m\u001b[0;34m\u001b[0m\u001b[0m\n\u001b[0m\u001b[1;32m      3\u001b[0m \u001b[0;31m# กราฟจะแสดงให้เห็นว่าข้อมูลมีความสมดุลแล้ว ham และ spam มีจำนวนเท่ากัน\u001b[0m\u001b[0;34m\u001b[0m\u001b[0;34m\u001b[0m\u001b[0m\n",
            "\u001b[0;31mNameError\u001b[0m: name 'y_train_resampled' is not defined"
          ]
        }
      ]
    },
    {
      "cell_type": "markdown",
      "source": [
        "## Data Transformation"
      ],
      "metadata": {
        "id": "tuxiAk8JBdop"
      }
    },
    {
      "cell_type": "code",
      "source": [
        "# การแปลงข้อมูลข้อความให้เป็นตัวเลขที่โมเดลเข้าใจได้\n",
        "\n",
        "from keras.preprocessing.text import Tokenizer  # ใช้แปลงข้อความเป็น token\n",
        "from keras.preprocessing.sequence import pad_sequences  # ใช้ปรับความยาวของ sequence ให้เท่ากัน\n",
        "\n",
        "# สร้าง tokenizer และฝึกบน X_train_resampled\n",
        "tokenizer = Tokenizer()\n",
        "tokenizer.fit_on_texts(X_train_resampled)  # เรียนรู้คำศัพท์จากข้อความฝึกฝน\n",
        "\n",
        "# แปลงข้อความเป็นลำดับของเลขจำนวนเต็ม (sequences)\n",
        "train_sequences = tokenizer.texts_to_sequences(X_train_resampled)\n",
        "test_sequences = tokenizer.texts_to_sequences(X_test)\n",
        "\n",
        "# ปรับความยาวของ sequence ให้เท่ากันทั้งหมด (padding)\n",
        "max_sequence_length = max(max(len(sequence) for sequence in train_sequences), max(len(sequence) for sequence in test_sequences))\n",
        "padded_train_sequences = pad_sequences(train_sequences, maxlen=max_sequence_length, padding=\"post\")\n",
        "padded_test_sequences = pad_sequences(test_sequences, maxlen=max_sequence_length, padding=\"post\")"
      ],
      "metadata": {
        "id": "SImCUySq1r-z"
      },
      "execution_count": null,
      "outputs": []
    },
    {
      "cell_type": "code",
      "source": [
        "# แปลงฉลาก (ham/spam) เป็นตัวเลข (0/1)\n",
        "label_mapping = {label: index for index, label in enumerate(train_data[\"label\"].unique())}  # สร้าง dictionary การแปลง\n",
        "train_numerical_labels = y_train_resampled.map(label_mapping)  # แปลงฉลากข้อมูลฝึกฝน\n",
        "test_numerical_labels = y_test.map(label_mapping)  # แปลงฉลากข้อมูลทดสอบ"
      ],
      "metadata": {
        "id": "6RWCvEvV7fm5"
      },
      "execution_count": null,
      "outputs": []
    },
    {
      "cell_type": "markdown",
      "source": [
        "# Build the Model"
      ],
      "metadata": {
        "id": "-MqEJhKxBnk0"
      }
    },
    {
      "cell_type": "code",
      "source": [
        "# สร้างโมเดล LSTM แบบสองทิศทาง (Bidirectional)\n",
        "\n",
        "model = tf.keras.models.Sequential()  # สร้างโมเดลแบบเรียงลำดับ\n",
        "\n",
        "# เพิ่มเลเยอร์ Embedding เพื่อแปลงตัวเลขที่แทนคำให้เป็นเวกเตอร์มิติสูง\n",
        "model.add(tf.keras.layers.Embedding(input_dim=len(tokenizer.word_index) + 1, output_dim=128, input_length=max_sequence_length))\n",
        "\n",
        "# เพิ่มเลเยอร์ LSTM แบบสองทิศทาง (สามารถเรียนรู้ความสัมพันธ์ของข้อความทั้งจากซ้ายไปขวาและขวาไปซ้าย)\n",
        "model.add(tf.keras.layers.Bidirectional(tf.keras.layers.LSTM(64)))\n",
        "\n",
        "# เลเยอร์สุดท้ายเป็นเลเยอร์ Dense 1 โหนด กับ activation function แบบ sigmoid (ให้ผลลัพธ์เป็นค่าความน่าจะเป็น 0-1)\n",
        "model.add(tf.keras.layers.Dense(1, activation=\"sigmoid\"))"
      ],
      "metadata": {
        "id": "0cYf89Kf7hbH"
      },
      "execution_count": null,
      "outputs": []
    },
    {
      "cell_type": "code",
      "source": [
        "# compile\n",
        "model.compile(\n",
        "    loss=\"binary_crossentropy\",  # ฟังก์ชันการสูญเสียสำหรับการจำแนกแบบไบนารี (2 ประเภท)\n",
        "    optimizer=\"adam\",  # อัลกอริทึมการเรียนรู้\n",
        "    metrics=[\"accuracy\"]  # ใช้ accuracy เป็นเมตริกในการวัดผล\n",
        ")"
      ],
      "metadata": {
        "id": "6PvVrHUU7jkc"
      },
      "execution_count": null,
      "outputs": []
    },
    {
      "cell_type": "code",
      "source": [
        "# แสดงโครงสร้างโมเดล\n",
        "model.summary()\n",
        "# ผลลัพธ์จะแสดงรายละเอียดของแต่ละเลเยอร์ จำนวนพารามิเตอร์ และขนาดเอาต์พุต"
      ],
      "metadata": {
        "colab": {
          "base_uri": "https://localhost:8080/"
        },
        "id": "8jb3McRPBE3D",
        "outputId": "a23d9ae7-2fa3-426e-f0d2-6c86deb3db39"
      },
      "execution_count": null,
      "outputs": [
        {
          "output_type": "stream",
          "name": "stdout",
          "text": [
            "Model: \"sequential_22\"\n",
            "_________________________________________________________________\n",
            " Layer (type)                Output Shape              Param #   \n",
            "=================================================================\n",
            " embedding_21 (Embedding)    (None, 189, 128)          520320    \n",
            "                                                                 \n",
            " bidirectional_5 (Bidirecti  (None, 128)               98816     \n",
            " onal)                                                           \n",
            "                                                                 \n",
            " dense_20 (Dense)            (None, 1)                 129       \n",
            "                                                                 \n",
            "=================================================================\n",
            "Total params: 619265 (2.36 MB)\n",
            "Trainable params: 619265 (2.36 MB)\n",
            "Non-trainable params: 0 (0.00 Byte)\n",
            "_________________________________________________________________\n"
          ]
        }
      ]
    },
    {
      "cell_type": "code",
      "source": [
        "## Train the model\n",
        "\n",
        "model.fit(\n",
        "    padded_train_sequences,        # ข้อมูล input ที่ใช้ฝึกฝน\n",
        "    train_numerical_labels,        # ฉลากเป้าหมาย\n",
        "    validation_data=(padded_test_sequences, test_numerical_labels),  # ข้อมูลสำหรับตรวจสอบความแม่นยำระหว่างฝึกฝน\n",
        "    epochs=5,                       # จำนวนรอบในการฝึกฝน\n",
        "    batch_size=32                  # ขนาดแบตช์\n",
        ")\n",
        "# ผลลัพธ์จะแสดงค่า loss และ accuracy ทั้งในชุดฝึกฝนและชุดตรวจสอบในแต่ละ epoch"
      ],
      "metadata": {
        "id": "YK5yyMUc8BFE",
        "colab": {
          "base_uri": "https://localhost:8080/"
        },
        "outputId": "b303b33b-a0dc-41e1-badc-6164c8fff983"
      },
      "execution_count": null,
      "outputs": [
        {
          "output_type": "stream",
          "name": "stdout",
          "text": [
            "Epoch 1/5\n",
            "35/35 [==============================] - 18s 367ms/step - loss: 0.5565 - accuracy: 0.7482 - val_loss: 0.3522 - val_accuracy: 0.8499\n",
            "Epoch 2/5\n",
            "35/35 [==============================] - 18s 519ms/step - loss: 0.1937 - accuracy: 0.9366 - val_loss: 0.1654 - val_accuracy: 0.9591\n",
            "Epoch 3/5\n",
            "35/35 [==============================] - 14s 405ms/step - loss: 0.0664 - accuracy: 0.9821 - val_loss: 0.1123 - val_accuracy: 0.9655\n",
            "Epoch 4/5\n",
            "35/35 [==============================] - 10s 275ms/step - loss: 0.0246 - accuracy: 0.9955 - val_loss: 0.0763 - val_accuracy: 0.9799\n",
            "Epoch 5/5\n",
            "35/35 [==============================] - 12s 345ms/step - loss: 0.0123 - accuracy: 0.9982 - val_loss: 0.0721 - val_accuracy: 0.9813\n"
          ]
        },
        {
          "output_type": "execute_result",
          "data": {
            "text/plain": [
              "<keras.src.callbacks.History at 0x7f757b746560>"
            ]
          },
          "metadata": {},
          "execution_count": 202
        }
      ]
    },
    {
      "cell_type": "markdown",
      "source": [
        "## Evaluate the model"
      ],
      "metadata": {
        "id": "_buHirfXHy-Q"
      }
    },
    {
      "cell_type": "code",
      "source": [
        "# ประเมินโมเดลกับชุดข้อมูลทดสอบ\n",
        "loss, accuracy = model.evaluate(padded_test_sequences, test_numerical_labels)\n",
        "print(f\"Test Loss: {loss:.4f}, Test Accuracy: {accuracy:.4f}\")\n",
        "# ผลลัพธ์จะแสดงค่า loss และ accuracy สุดท้ายบนชุดข้อมูลทดสอบ"
      ],
      "metadata": {
        "id": "cbXxBIuM8anQ",
        "colab": {
          "base_uri": "https://localhost:8080/"
        },
        "outputId": "e4620da8-05c3-4307-a9c8-7c6d48b5aad5"
      },
      "execution_count": null,
      "outputs": [
        {
          "output_type": "stream",
          "name": "stdout",
          "text": [
            "44/44 [==============================] - 3s 58ms/step - loss: 0.0721 - accuracy: 0.9813\n",
            "Test Loss: 0.0721, Test Accuracy: 0.9813\n"
          ]
        }
      ]
    },
    {
      "cell_type": "markdown",
      "source": [
        "# Submission"
      ],
      "metadata": {
        "id": "ze0PJo6JHnpp"
      }
    },
    {
      "cell_type": "code",
      "execution_count": null,
      "metadata": {
        "id": "J9tD9yACG6M9",
        "colab": {
          "base_uri": "https://localhost:8080/"
        },
        "outputId": "89c08fd5-ca50-4393-bdd9-a95a49074388"
      },
      "outputs": [
        {
          "output_type": "stream",
          "name": "stdout",
          "text": [
            "1/1 [==============================] - 0s 91ms/step\n",
            "[0.0053630368784070015, 'ham']\n"
          ]
        }
      ],
      "source": [
        "# ฟังก์ชันสำหรับทำนายว่าข้อความเป็น spam หรือ ham\n",
        "def predict_message(pred_text):\n",
        "    # ตรวจสอบว่าอินพุตเป็นรายการหรือไม่ ถ้าไม่ใช่ให้แปลงเป็นรายการ\n",
        "    if not isinstance(pred_text, list):\n",
        "        pred_text = [pred_text]\n",
        "\n",
        "    # แปลงข้อความเป็น sequence และทำ padding\n",
        "    sequences = tokenizer.texts_to_sequences(pred_text)\n",
        "    padded_sequences = pad_sequences(sequences, maxlen=max_sequence_length, padding=\"post\")\n",
        "\n",
        "    # ทำนายด้วยโมเดล\n",
        "    predictions = model.predict(padded_sequences)\n",
        "\n",
        "    # แปลงค่าความน่าจะเป็นเป็นประเภท (0 หรือ 1)\n",
        "    predicted_labels = (predictions > 0.5).astype(int)\n",
        "\n",
        "    # รวมผลลัพธ์ให้อยู่ในรูปแบบ [ค่าความน่าจะเป็น, ประเภท]\n",
        "    results = [[float(prediction), \"spam\" if label == 1 else \"ham\"] for prediction, label in zip(predictions, predicted_labels)]\n",
        "\n",
        "    # ถ้ามีผลลัพธ์เพียงรายการเดียว ให้ส่งคืนเฉพาะรายการนั้น\n",
        "    if len(results) == 1:\n",
        "      result = results[0]\n",
        "    else:\n",
        "      result = results\n",
        "\n",
        "    return result\n",
        "\n",
        "# ทดสอบฟังก์ชันกับข้อความตัวอย่าง\n",
        "pred_text = \"how are you doing today?\"\n",
        "prediction = predict_message(pred_text)\n",
        "print(prediction)"
      ]
    },
    {
      "cell_type": "code",
      "execution_count": null,
      "metadata": {
        "id": "Dxotov85SjsC",
        "colab": {
          "base_uri": "https://localhost:8080/"
        },
        "outputId": "2c22393d-e16a-48bb-cbab-87e4ded18c2c"
      },
      "outputs": [
        {
          "output_type": "stream",
          "name": "stdout",
          "text": [
            "ham\n",
            "1/1 [==============================] - 0s 90ms/step\n",
            "[0.0053630368784070015, 'ham']\n",
            "spam\n",
            "1/1 [==============================] - 0s 106ms/step\n",
            "[0.6308251619338989, 'spam']\n",
            "ham\n",
            "1/1 [==============================] - 0s 96ms/step\n",
            "[0.002444487763568759, 'ham']\n",
            "spam\n",
            "1/1 [==============================] - 0s 87ms/step\n",
            "[0.9890956282615662, 'spam']\n",
            "spam\n",
            "1/1 [==============================] - 0s 95ms/step\n",
            "[0.9961050152778625, 'spam']\n",
            "ham\n",
            "1/1 [==============================] - 0s 87ms/step\n",
            "[0.0026330924592912197, 'ham']\n",
            "ham\n",
            "1/1 [==============================] - 0s 84ms/step\n",
            "[0.006858247797936201, 'ham']\n",
            "You passed the challenge. Great job!\n"
          ]
        }
      ],
      "source": [
        "# ฟังก์ชันทดสอบโมเดลกับข้อความตัวอย่างหลายข้อความ\n",
        "def test_predictions():\n",
        "  # รายการข้อความทดสอบ\n",
        "  test_messages = [\"how are you doing today\",\n",
        "                   \"sale today! to stop texts call 98912460324\",\n",
        "                   \"i dont want to go. can we try it a different day? available sat\",\n",
        "                   \"our new mobile video service is live. just install on your phone to start watching.\",\n",
        "                   \"you have won £1000 cash! call to claim your prize.\",\n",
        "                   \"i'll bring it tomorrow. don't forget the milk.\",\n",
        "                   \"wow, is your arm alright. that happened to me one time too\"\n",
        "                  ]\n",
        "\n",
        "  # คำตอบที่ถูกต้องสำหรับแต่ละข้อความ\n",
        "  test_answers = [\"ham\", \"spam\", \"ham\", \"spam\", \"spam\", \"ham\", \"ham\"]\n",
        "  passed = True\n",
        "\n",
        "  # ทดสอบทีละข้อความและตรวจสอบว่าโมเดลทำนายถูกต้องหรือไม่\n",
        "  for msg, ans in zip(test_messages, test_answers):\n",
        "    print(ans)  # แสดงคำตอบที่ถูกต้อง\n",
        "    prediction = predict_message(msg)  # ทำนายด้วยโมเดล\n",
        "    print(prediction)  # แสดงผลการทำนาย\n",
        "    if prediction[1] != ans:  # ตรวจสอบว่าทำนายถูกต้องหรือไม่\n",
        "      passed = False\n",
        "\n",
        "  # แสดงผลรวมการทดสอบ\n",
        "  if passed:\n",
        "    print(\"You passed the challenge. Great job!\")\n",
        "  else:\n",
        "    print(\"You haven't passed yet. Keep trying.\")\n",
        "\n",
        "# เรียกใช้ฟังก์ชันทดสอบ\n",
        "test_predictions()"
      ]
    }
  ],
  "metadata": {
    "colab": {
      "provenance": []
    },
    "kernelspec": {
      "display_name": "Python 3",
      "name": "python3"
    },
    "language_info": {}
  },
  "nbformat": 4,
  "nbformat_minor": 0
}